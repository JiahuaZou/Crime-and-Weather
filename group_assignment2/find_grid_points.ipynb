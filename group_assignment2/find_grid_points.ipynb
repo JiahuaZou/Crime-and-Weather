{
 "cells": [
  {
   "cell_type": "code",
   "execution_count": 1,
   "metadata": {
    "collapsed": true
   },
   "outputs": [],
   "source": [
    "from pathlib import Path\n",
    "from geopy import distance\n",
    "from geopy import Nominatim\n",
    "import numpy as np\n",
    "import geopy\n",
    "import pandas as pd\n",
    "from Assignment_2_Functions import *"
   ]
  },
  {
   "cell_type": "code",
   "execution_count": 2,
   "metadata": {
    "collapsed": true
   },
   "outputs": [],
   "source": [
    "geolocator = Nominatim(user_agent='stat159-group3_assignment2')\n",
    "origin_location = geolocator.reverse(\"37.905098, -122.272225\",timeout = 10)"
   ]
  },
  {
   "cell_type": "code",
   "execution_count": 3,
   "metadata": {
    "collapsed": true
   },
   "outputs": [],
   "source": [
    "origin_lat, origin_lon = 37.905098, -122.272225"
   ]
  },
  {
   "cell_type": "code",
   "execution_count": 5,
   "metadata": {},
   "outputs": [],
   "source": [
    "optimal = find_optimal(origin_lat, origin_lon, 5)\n",
    "optimal1 = optimal[0]\n",
    "optimal2 = optimal[1]"
   ]
  },
  {
   "cell_type": "code",
   "execution_count": 6,
   "metadata": {},
   "outputs": [
    {
     "data": {
      "text/plain": [
       "0.056713928273561295"
      ]
     },
     "execution_count": 6,
     "metadata": {},
     "output_type": "execute_result"
    }
   ],
   "source": [
    "optimal1"
   ]
  },
  {
   "cell_type": "code",
   "execution_count": 7,
   "metadata": {},
   "outputs": [
    {
     "data": {
      "text/plain": [
       "0.09090909090909091"
      ]
     },
     "execution_count": 7,
     "metadata": {},
     "output_type": "execute_result"
    }
   ],
   "source": [
    "optimal2"
   ]
  },
  {
   "cell_type": "code",
   "execution_count": 10,
   "metadata": {},
   "outputs": [
    {
     "name": "stdout",
     "output_type": "stream",
     "text": [
      "0-0\n",
      "0-1\n",
      "0-2\n",
      "0-3\n",
      "0-4\n",
      "0-5\n",
      "0-6\n",
      "0-7\n",
      "0-8\n",
      "0-9\n",
      "1-0\n",
      "1-1\n",
      "1-2\n",
      "1-3\n",
      "1-4\n",
      "1-5\n",
      "1-6\n",
      "1-7\n",
      "1-8\n",
      "1-9\n",
      "2-0\n",
      "2-1\n",
      "2-2\n",
      "2-3\n",
      "2-4\n",
      "2-5\n",
      "2-6\n",
      "2-7\n",
      "2-8\n",
      "2-9\n",
      "3-0\n",
      "3-1\n",
      "3-2\n",
      "3-3\n",
      "3-4\n",
      "3-5\n",
      "3-6\n",
      "3-7\n",
      "3-8\n",
      "3-9\n",
      "4-0\n",
      "You are blocked by geopy. Use our grid_points_alameda.csv directly. Or try changing timeout to greater value to avoid being blocked\n",
      "4-1\n",
      "4-2\n",
      "4-3\n",
      "4-4\n",
      "4-5\n",
      "4-6\n",
      "4-7\n",
      "4-8\n",
      "4-9\n",
      "5-0\n",
      "5-1\n",
      "5-2\n",
      "5-3\n",
      "5-4\n",
      "5-5\n",
      "5-6\n",
      "5-7\n",
      "5-8\n",
      "5-9\n",
      "6-0\n",
      "6-1\n",
      "6-2\n",
      "6-3\n",
      "6-4\n",
      "6-5\n",
      "6-6\n",
      "6-7\n",
      "6-8\n",
      "6-9\n",
      "7-0\n",
      "7-1\n",
      "7-2\n",
      "7-3\n",
      "7-4\n",
      "7-5\n",
      "7-6\n",
      "7-7\n",
      "7-8\n",
      "7-9\n",
      "8-0\n",
      "8-1\n",
      "8-2\n",
      "8-3\n",
      "8-4\n",
      "8-5\n",
      "8-6\n",
      "8-7\n",
      "8-8\n",
      "8-9\n",
      "9-0\n",
      "9-1\n",
      "9-2\n",
      "9-3\n",
      "9-4\n",
      "9-5\n",
      "9-6\n",
      "9-7\n",
      "9-8\n",
      "9-9\n",
      "10-0\n",
      "10-1\n",
      "10-2\n",
      "10-3\n",
      "10-4\n",
      "10-5\n",
      "10-6\n",
      "10-7\n",
      "10-8\n",
      "10-9\n",
      "11-0\n",
      "11-1\n",
      "11-2\n",
      "11-3\n",
      "11-4\n",
      "11-5\n",
      "11-6\n",
      "11-7\n",
      "11-8\n",
      "11-9\n",
      "12-0\n",
      "12-1\n",
      "12-2\n",
      "12-3\n",
      "12-4\n",
      "12-5\n",
      "12-6\n",
      "12-7\n",
      "12-8\n",
      "12-9\n",
      "13-0\n",
      "13-1\n",
      "13-2\n",
      "13-3\n",
      "13-4\n",
      "13-5\n",
      "13-6\n",
      "13-7\n",
      "13-8\n",
      "13-9\n",
      "14-0\n",
      "14-1\n",
      "14-2\n",
      "14-3\n",
      "14-4\n",
      "14-5\n",
      "14-6\n",
      "14-7\n",
      "14-8\n",
      "14-9\n"
     ]
    }
   ],
   "source": [
    "#### IMPORTANT!!!!\n",
    "#### Since this is extremely time consuming and there is no guarantee geopy will not shut you down, we decided to save it to a csv file for the first time running, so that we don't need to run it everytime. \n",
    "#### Change timeout option if there is timeout error!!!\n",
    "\n",
    "grid_names = []\n",
    "grid_lat = []\n",
    "grid_lon = []\n",
    "for n in range(15):\n",
    "    origin_lat = float(origin_location.raw['lat'])\n",
    "    origin_lon = float(origin_location.raw['lon'])\n",
    "    origin_lon = float(origin_location.raw['lon']) + n * optimal2\n",
    "    for i in range(10):\n",
    "        print(str(n) + '-' + str(i))\n",
    "        lat = origin_lat - i * optimal1\n",
    "        lon = origin_lon + i * optimal1\n",
    "        try:\n",
    "            location = geolocator.reverse(f'{lat, lon}', timeout = 1)\n",
    "        except:\n",
    "            print(\"You are blocked by geopy. Use our grid_points_alameda.csv directly. Or try changing timeout to greater value to avoid being blocked\")\n",
    "        grid_lat.append(lat)\n",
    "        grid_lon.append(lon)\n",
    "        grid_names.append(location.raw['display_name'])\n",
    "d = {'name' : grid_names,\n",
    "     'lat' : grid_lat,\n",
    "     'lon' : grid_lon}\n",
    "locations = pd.DataFrame(data = d)"
   ]
  },
  {
   "cell_type": "markdown",
   "metadata": {},
   "source": [
    "### filter out points that are not in Alameda"
   ]
  },
  {
   "cell_type": "code",
   "execution_count": 13,
   "metadata": {
    "collapsed": true
   },
   "outputs": [],
   "source": [
    "locations = pd.DataFrame(data = d)"
   ]
  },
  {
   "cell_type": "code",
   "execution_count": 15,
   "metadata": {},
   "outputs": [
    {
     "data": {
      "text/html": [
       "<div>\n",
       "<style scoped>\n",
       "    .dataframe tbody tr th:only-of-type {\n",
       "        vertical-align: middle;\n",
       "    }\n",
       "\n",
       "    .dataframe tbody tr th {\n",
       "        vertical-align: top;\n",
       "    }\n",
       "\n",
       "    .dataframe thead th {\n",
       "        text-align: right;\n",
       "    }\n",
       "</style>\n",
       "<table border=\"1\" class=\"dataframe\">\n",
       "  <thead>\n",
       "    <tr style=\"text-align: right;\">\n",
       "      <th></th>\n",
       "      <th>name</th>\n",
       "      <th>lat</th>\n",
       "      <th>lon</th>\n",
       "    </tr>\n",
       "  </thead>\n",
       "  <tbody>\n",
       "    <tr>\n",
       "      <th>0</th>\n",
       "      <td>399, Vassar Avenue, Cragmont, Berkeley, Alamed...</td>\n",
       "      <td>37.904360</td>\n",
       "      <td>-122.272787</td>\n",
       "    </tr>\n",
       "    <tr>\n",
       "      <th>1</th>\n",
       "      <td>6599, Gwin Road, Oakland, Alameda County, Cali...</td>\n",
       "      <td>37.847646</td>\n",
       "      <td>-122.216073</td>\n",
       "    </tr>\n",
       "    <tr>\n",
       "      <th>2</th>\n",
       "      <td>Denton Place, Oakland, Alameda County, Califor...</td>\n",
       "      <td>37.790932</td>\n",
       "      <td>-122.159359</td>\n",
       "    </tr>\n",
       "    <tr>\n",
       "      <th>3</th>\n",
       "      <td>Towhee Trail, Ashland, Alameda County, Califor...</td>\n",
       "      <td>37.734218</td>\n",
       "      <td>-122.102645</td>\n",
       "    </tr>\n",
       "    <tr>\n",
       "      <th>4</th>\n",
       "      <td>24499, Sarita Street, Fairview, Alameda County...</td>\n",
       "      <td>37.677504</td>\n",
       "      <td>-122.045931</td>\n",
       "    </tr>\n",
       "  </tbody>\n",
       "</table>\n",
       "</div>"
      ],
      "text/plain": [
       "                                                name        lat         lon\n",
       "0  399, Vassar Avenue, Cragmont, Berkeley, Alamed...  37.904360 -122.272787\n",
       "1  6599, Gwin Road, Oakland, Alameda County, Cali...  37.847646 -122.216073\n",
       "2  Denton Place, Oakland, Alameda County, Califor...  37.790932 -122.159359\n",
       "3  Towhee Trail, Ashland, Alameda County, Califor...  37.734218 -122.102645\n",
       "4  24499, Sarita Street, Fairview, Alameda County...  37.677504 -122.045931"
      ]
     },
     "execution_count": 15,
     "metadata": {},
     "output_type": "execute_result"
    }
   ],
   "source": [
    "locations.head()"
   ]
  },
  {
   "cell_type": "code",
   "execution_count": 16,
   "metadata": {},
   "outputs": [
    {
     "data": {
      "text/plain": [
       "31"
      ]
     },
     "execution_count": 16,
     "metadata": {},
     "output_type": "execute_result"
    }
   ],
   "source": [
    "#number of grid points in Alameda\n",
    "sum(['Alameda' in location for location in locations.name])"
   ]
  },
  {
   "cell_type": "code",
   "execution_count": 17,
   "metadata": {},
   "outputs": [
    {
     "data": {
      "text/plain": [
       "150"
      ]
     },
     "execution_count": 17,
     "metadata": {},
     "output_type": "execute_result"
    }
   ],
   "source": [
    "#total number of grid points\n",
    "len(locations)"
   ]
  },
  {
   "cell_type": "code",
   "execution_count": 18,
   "metadata": {
    "collapsed": true
   },
   "outputs": [],
   "source": [
    "#Extract grid points in Alameda into a dataframe called 'locations_alameda'\n",
    "locations_alameda = locations.loc[['Alameda' in location for location in locations.name]]\n",
    "locations_alameda.head()\n",
    "locations_alameda.to_csv(\"grid_points_alameda.csv\")"
   ]
  },
  {
   "cell_type": "code",
   "execution_count": null,
   "metadata": {
    "collapsed": true
   },
   "outputs": [],
   "source": []
  }
 ],
 "metadata": {
  "kernelspec": {
   "display_name": "Python 3",
   "language": "python",
   "name": "python3"
  },
  "language_info": {
   "codemirror_mode": {
    "name": "ipython",
    "version": 3
   },
   "file_extension": ".py",
   "mimetype": "text/x-python",
   "name": "python",
   "nbconvert_exporter": "python",
   "pygments_lexer": "ipython3",
   "version": "3.6.5"
  }
 },
 "nbformat": 4,
 "nbformat_minor": 2
}
