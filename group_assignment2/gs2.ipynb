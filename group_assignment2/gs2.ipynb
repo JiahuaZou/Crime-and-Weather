{
 "cells": [
  {
   "cell_type": "code",
   "execution_count": 1,
   "metadata": {
    "collapsed": true
   },
   "outputs": [],
   "source": [
    "#Import packages\n",
    "import geopy\n",
    "from geopy.geocoders import Nominatim\n",
    "from geopy.distance import distance\n",
    "import numpy as np\n",
    "import time\n",
    "import matplotlib.pyplot as plt\n",
    "import pandas as pd\n",
    "from shapely import wkt\n",
    "import csv\n",
    "from pathlib import Path\n",
    "from shapely.geometry import Point, Polygon, LinearRing\n",
    "from Assignment_2_Functions import *"
   ]
  },
  {
   "cell_type": "markdown",
   "metadata": {},
   "source": [
    "## read stations.csv data from OCF, and read grid_points_alameda.csv produced in find_grid_points.ipynb"
   ]
  },
  {
   "cell_type": "code",
   "execution_count": 2,
   "metadata": {},
   "outputs": [
    {
     "data": {
      "text/html": [
       "<div>\n",
       "<style scoped>\n",
       "    .dataframe tbody tr th:only-of-type {\n",
       "        vertical-align: middle;\n",
       "    }\n",
       "\n",
       "    .dataframe tbody tr th {\n",
       "        vertical-align: top;\n",
       "    }\n",
       "\n",
       "    .dataframe thead th {\n",
       "        text-align: right;\n",
       "    }\n",
       "</style>\n",
       "<table border=\"1\" class=\"dataframe\">\n",
       "  <thead>\n",
       "    <tr style=\"text-align: right;\">\n",
       "      <th></th>\n",
       "      <th>Unnamed: 0</th>\n",
       "      <th>ID</th>\n",
       "      <th>LATITUDE</th>\n",
       "      <th>LONGITUDE</th>\n",
       "      <th>ELEVATION</th>\n",
       "      <th>STATE</th>\n",
       "      <th>NAME</th>\n",
       "      <th>GSN FLAG</th>\n",
       "      <th>HCN/CRN FLAG</th>\n",
       "      <th>WMO ID</th>\n",
       "    </tr>\n",
       "  </thead>\n",
       "  <tbody>\n",
       "    <tr>\n",
       "      <th>0</th>\n",
       "      <td>50462</td>\n",
       "      <td>US1CAAL0001</td>\n",
       "      <td>37.8123</td>\n",
       "      <td>-122.2160</td>\n",
       "      <td>113.4</td>\n",
       "      <td>CA</td>\n",
       "      <td>PIEDMONT 1.0 SE</td>\n",
       "      <td>NaN</td>\n",
       "      <td>NaN</td>\n",
       "      <td>NaN</td>\n",
       "    </tr>\n",
       "    <tr>\n",
       "      <th>1</th>\n",
       "      <td>50463</td>\n",
       "      <td>US1CAAL0002</td>\n",
       "      <td>37.7075</td>\n",
       "      <td>-122.0687</td>\n",
       "      <td>87.5</td>\n",
       "      <td>CA</td>\n",
       "      <td>CASTRO VALLEY 0.5 WSW</td>\n",
       "      <td>NaN</td>\n",
       "      <td>NaN</td>\n",
       "      <td>NaN</td>\n",
       "    </tr>\n",
       "    <tr>\n",
       "      <th>2</th>\n",
       "      <td>50464</td>\n",
       "      <td>US1CAAL0003</td>\n",
       "      <td>37.7169</td>\n",
       "      <td>-122.0585</td>\n",
       "      <td>163.4</td>\n",
       "      <td>CA</td>\n",
       "      <td>CASTRO VALLEY 0.4 NNE</td>\n",
       "      <td>NaN</td>\n",
       "      <td>NaN</td>\n",
       "      <td>NaN</td>\n",
       "    </tr>\n",
       "    <tr>\n",
       "      <th>3</th>\n",
       "      <td>50465</td>\n",
       "      <td>US1CAAL0004</td>\n",
       "      <td>37.6483</td>\n",
       "      <td>-121.8745</td>\n",
       "      <td>107.0</td>\n",
       "      <td>CA</td>\n",
       "      <td>PLEASANTON 1.8 SSE</td>\n",
       "      <td>NaN</td>\n",
       "      <td>NaN</td>\n",
       "      <td>NaN</td>\n",
       "    </tr>\n",
       "    <tr>\n",
       "      <th>4</th>\n",
       "      <td>50466</td>\n",
       "      <td>US1CAAL0006</td>\n",
       "      <td>37.8319</td>\n",
       "      <td>-122.2503</td>\n",
       "      <td>58.2</td>\n",
       "      <td>CA</td>\n",
       "      <td>OAKLAND 4.4 NNW</td>\n",
       "      <td>NaN</td>\n",
       "      <td>NaN</td>\n",
       "      <td>NaN</td>\n",
       "    </tr>\n",
       "  </tbody>\n",
       "</table>\n",
       "</div>"
      ],
      "text/plain": [
       "   Unnamed: 0           ID  LATITUDE  LONGITUDE  ELEVATION STATE  \\\n",
       "0       50462  US1CAAL0001   37.8123  -122.2160      113.4    CA   \n",
       "1       50463  US1CAAL0002   37.7075  -122.0687       87.5    CA   \n",
       "2       50464  US1CAAL0003   37.7169  -122.0585      163.4    CA   \n",
       "3       50465  US1CAAL0004   37.6483  -121.8745      107.0    CA   \n",
       "4       50466  US1CAAL0006   37.8319  -122.2503       58.2    CA   \n",
       "\n",
       "                    NAME GSN FLAG HCN/CRN FLAG  WMO ID  \n",
       "0        PIEDMONT 1.0 SE      NaN          NaN     NaN  \n",
       "1  CASTRO VALLEY 0.5 WSW      NaN          NaN     NaN  \n",
       "2  CASTRO VALLEY 0.4 NNE      NaN          NaN     NaN  \n",
       "3     PLEASANTON 1.8 SSE      NaN          NaN     NaN  \n",
       "4        OAKLAND 4.4 NNW      NaN          NaN     NaN  "
      ]
     },
     "execution_count": 2,
     "metadata": {},
     "output_type": "execute_result"
    }
   ],
   "source": [
    "stations = pd.read_csv('stations.csv')\n",
    "stations.head()"
   ]
  },
  {
   "cell_type": "code",
   "execution_count": 3,
   "metadata": {
    "collapsed": true
   },
   "outputs": [],
   "source": [
    "geolocator = Nominatim(user_agent='stat159-group_assignment2')"
   ]
  },
  {
   "cell_type": "code",
   "execution_count": 4,
   "metadata": {},
   "outputs": [
    {
     "data": {
      "text/html": [
       "<div>\n",
       "<style scoped>\n",
       "    .dataframe tbody tr th:only-of-type {\n",
       "        vertical-align: middle;\n",
       "    }\n",
       "\n",
       "    .dataframe tbody tr th {\n",
       "        vertical-align: top;\n",
       "    }\n",
       "\n",
       "    .dataframe thead th {\n",
       "        text-align: right;\n",
       "    }\n",
       "</style>\n",
       "<table border=\"1\" class=\"dataframe\">\n",
       "  <thead>\n",
       "    <tr style=\"text-align: right;\">\n",
       "      <th></th>\n",
       "      <th>Unnamed: 0</th>\n",
       "      <th>name</th>\n",
       "      <th>lat</th>\n",
       "      <th>lon</th>\n",
       "    </tr>\n",
       "  </thead>\n",
       "  <tbody>\n",
       "    <tr>\n",
       "      <th>0</th>\n",
       "      <td>0</td>\n",
       "      <td>399, Vassar Avenue, Cragmont, Berkeley, Alamed...</td>\n",
       "      <td>37.904360</td>\n",
       "      <td>-122.272787</td>\n",
       "    </tr>\n",
       "    <tr>\n",
       "      <th>1</th>\n",
       "      <td>1</td>\n",
       "      <td>6599, Gwin Road, Oakland, Alameda County, Cali...</td>\n",
       "      <td>37.847646</td>\n",
       "      <td>-122.216073</td>\n",
       "    </tr>\n",
       "    <tr>\n",
       "      <th>2</th>\n",
       "      <td>2</td>\n",
       "      <td>Denton Place, Oakland, Alameda County, Califor...</td>\n",
       "      <td>37.790932</td>\n",
       "      <td>-122.159359</td>\n",
       "    </tr>\n",
       "    <tr>\n",
       "      <th>3</th>\n",
       "      <td>3</td>\n",
       "      <td>Towhee Trail, Ashland, Alameda County, Califor...</td>\n",
       "      <td>37.734218</td>\n",
       "      <td>-122.102645</td>\n",
       "    </tr>\n",
       "    <tr>\n",
       "      <th>4</th>\n",
       "      <td>4</td>\n",
       "      <td>24499, Sarita Street, Fairview, Alameda County...</td>\n",
       "      <td>37.677504</td>\n",
       "      <td>-122.045931</td>\n",
       "    </tr>\n",
       "  </tbody>\n",
       "</table>\n",
       "</div>"
      ],
      "text/plain": [
       "   Unnamed: 0                                               name        lat  \\\n",
       "0           0  399, Vassar Avenue, Cragmont, Berkeley, Alamed...  37.904360   \n",
       "1           1  6599, Gwin Road, Oakland, Alameda County, Cali...  37.847646   \n",
       "2           2  Denton Place, Oakland, Alameda County, Califor...  37.790932   \n",
       "3           3  Towhee Trail, Ashland, Alameda County, Califor...  37.734218   \n",
       "4           4  24499, Sarita Street, Fairview, Alameda County...  37.677504   \n",
       "\n",
       "          lon  \n",
       "0 -122.272787  \n",
       "1 -122.216073  \n",
       "2 -122.159359  \n",
       "3 -122.102645  \n",
       "4 -122.045931  "
      ]
     },
     "execution_count": 4,
     "metadata": {},
     "output_type": "execute_result"
    }
   ],
   "source": [
    "locations_alameda = pd.read_csv(\"grid_points_alameda.csv\")\n",
    "locations_alameda.head()"
   ]
  },
  {
   "cell_type": "code",
   "execution_count": 20,
   "metadata": {},
   "outputs": [
    {
     "data": {
      "image/png": "[encoded data removed]",
      "text/plain": [
       "<matplotlib.figure.Figure at 0x119070780>"
      ]
     },
     "metadata": {},
     "output_type": "display_data"
    }
   ],
   "source": [
    "#scatter plot of grid points overlaying Alameda to get the shape of Alameda\n",
    "plt.scatter(locations_alameda.lon, locations_alameda.lat)\n",
    "plt.xlabel('lon')\n",
    "plt.ylabel('lat')\n",
    "plt.show();"
   ]
  },
  {
   "cell_type": "markdown",
   "metadata": {
    "collapsed": true
   },
   "source": [
    "### Write code to identify all weather stations within $x$ miles of Alameda County:"
   ]
  },
  {
   "cell_type": "markdown",
   "metadata": {},
   "source": [
    "#### Here we use two methods:\n",
    "#### 1. Method of polygon (we did 5 miles instead of 10 miles for polygon):"
   ]
  },
  {
   "cell_type": "code",
   "execution_count": 6,
   "metadata": {},
   "outputs": [
    {
     "data": {
      "image/svg+xml": [
       "<svg xmlns=\"http://www.w3.org/2000/svg\" xmlns:xlink=\"http://www.w3.org/1999/xlink\" width=\"100.0\" height=\"100.0\" viewBox=\"-122.30321235446205 37.476937147623005 0.8214845704753913 0.4578482068390457\" preserveAspectRatio=\"xMinYMin meet\"><g transform=\"matrix(1,0,0,-1,0,75.41172250208506)\"><path fill-rule=\"evenodd\" fill=\"#66cc99\" stroke=\"#555555\" stroke-width=\"0.016429691409507827\" opacity=\"0.6\" d=\"M -122.272787,37.90436 L -122.21607307172644,37.84764607172644 L -122.15935914345287,37.79093214345289 L -122.10264521517931,37.73421821517931 L -122.04593128690577,37.67750428690575 L -121.9892173586322,37.620790358632185 L -121.93250343035862,37.56407643035863 L -121.87578950208507,37.50736250208506 L -122.06845005254377,37.79093214345289 L -122.01173612427021,37.73421821517931 L -121.95502219599665,37.67750428690575 L -121.89830826772312,37.620790358632185 L -121.84159433944951,37.56407643035863 L -121.78488041117598,37.50736250208506 L -121.86411310508757,37.67750428690575 L -121.807399176814,37.620790358632185 L -121.75068524854044,37.56407643035863 L -121.69397132026688,37.50736250208506 L -121.82991794245207,37.73421821517931 L -121.77320401417849,37.67750428690575 L -121.71649008590492,37.620790358632185 L -121.65977615763136,37.56407643035863 L -121.60306222935779,37.50736250208506 L -121.73900885154295,37.73421821517931 L -121.68229492326941,37.67750428690575 L -121.62558099499584,37.620790358632185 L -121.56886706672226,37.56407643035863 L -121.51215313844871,37.50736250208506 L -121.64809976063385,37.73421821517931 L -121.5913858323603,37.67750428690575 L -121.61390459799831,37.79093214345289 L -122.272787,37.90436 z\" /></g></svg>"
      ],
      "text/plain": [
       "<shapely.geometry.polygon.Polygon at 0x10df79588>"
      ]
     },
     "execution_count": 6,
     "metadata": {},
     "output_type": "execute_result"
    }
   ],
   "source": [
    "polygon = Polygon(zip(locations_alameda.lon,locations_alameda.lat))\n",
    "polygon"
   ]
  },
  {
   "cell_type": "code",
   "execution_count": 7,
   "metadata": {},
   "outputs": [
    {
     "data": {
      "image/svg+xml": [
       "<svg xmlns=\"http://www.w3.org/2000/svg\" xmlns:xlink=\"http://www.w3.org/1999/xlink\" width=\"100.0\" height=\"100.0\" viewBox=\"-122.3644596632199 37.41568816267308 0.9439343503747466 0.5803301288376659\" preserveAspectRatio=\"xMinYMin meet\"><g transform=\"matrix(1,0,0,-1,0,75.41170645418381)\"><path fill-rule=\"evenodd\" fill=\"#66cc99\" stroke=\"#555555\" stroke-width=\"0.018878687007494933\" opacity=\"0.6\" d=\"M -122.26316512680631,37.960251763404486 L -121.60428272480463,37.84682390685738 L -121.59873118942691,37.84557861939182 L -121.59333235798417,37.843783374290204 L -121.58814056387168,37.841456238751476 L -121.58320805687808,37.83862063287616 L -121.57858447734777,37.83530509396838 L -121.5743163566046,37.83154298933883 L -121.57044664866442,37.82737218049885 L -121.56701429794943,37.82283464212531 L -121.56405384735471,37.817976039630935 L -121.56159509061142,37.81284526959133 L -121.55966277244501,37.80749396765387 L -121.5582763395465,37.80197598888081 L -121.53575757390848,37.68854813233367 L -121.53494303150903,37.683043230151675 L -121.53467190736612,37.67748500030279 L -121.53494681180042,37.671926956140865 L -121.53576509809552,37.666422609231994 L -121.53711888797984,37.66102495415752 L -121.53749331007322,37.65997947201537 L -121.46350557227602,37.53651527151942 L -121.46084145754538,37.53151992461094 L -121.45868864581384,37.526283857414796 L -121.45706858909924,37.52085924551388 L -121.45599743070154,37.515300143273315 L -121.45548584434052,37.50966194520751 L -121.45553892779574,37.5040008339932 L -121.45615615210912,37.498373220628636 L -121.45733136685571,37.4928351823177 L -121.45905286143054,37.48744190368009 L -121.46130348174076,37.48224712685589 L -121.46406080114015,37.477302615983845 L -121.46729734390284,37.4726576413898 L -121.47098085900933,37.4683584886251 L -121.47507464151667,37.46444799724719 L -121.47953789831035,37.46096513393841 L -121.48432615459353,37.45794460421655 L -121.48939169706283,37.455416506606525 L -121.49468404935475,37.453406032719045 L -121.50015047502504,37.451933216224994 L -121.505736503049,37.45101273322692 L -121.51138647060611,37.45065375601677 L -121.51704407774083,37.4508598616772 L -121.5226529483718,37.45162899643722 L -121.52815719205996,37.45295349613727 L -121.53350196093722,37.45482016259991 L -121.53863399624635,37.45721039514507 L -121.54350215904589,37.46010037593931 L -121.54805793979192,37.46346130733226 L -121.55225594171868,37.467259698815106 L -121.55797953010551,37.47298328720194 L -121.55820643481191,37.47265764138981 L -121.56188994991841,37.46835848862511 L -121.56598373242574,37.4644479972472 L -121.57044698921942,37.460965133938416 L -121.5752352455026,37.45794460421656 L -121.5803007879719,37.45541650660653 L -121.58559314026381,37.453406032719045 L -121.59105956593412,37.451933216224994 L -121.59664559395806,37.45101273322692 L -121.60229556151518,37.45065375601677 L -121.6079531686499,37.4508598616772 L -121.61356203928086,37.451628996437215 L -121.61906628296903,37.45295349613726 L -121.62441105184628,37.4548201625999 L -121.62954308715541,37.45721039514506 L -121.63441124995495,37.460100375939305 L -121.638967030701,37.46346130733225 L -121.64316503262775,37.4672596988151 L -121.6488886210146,37.47298328720195 L -121.649115525721,37.47265764138981 L -121.6527990408275,37.46835848862511 L -121.65689282333484,37.4644479972472 L -121.66135608012851,37.46096513393841 L -121.6661443364117,37.45794460421655 L -121.671209878881,37.45541650660653 L -121.67650223117292,37.453406032719045 L -121.68196865684321,37.451933216224994 L -121.68755468486715,37.45101273322692 L -121.69320465242428,37.45065375601677 L -121.69886225955901,37.4508598616772 L -121.70447113018997,37.45162899643722 L -121.70997537387812,37.45295349613727 L -121.71532014275539,37.45482016259991 L -121.7204521780645,37.45721039514507 L -121.72532034086406,37.46010037593931 L -121.72987612161009,37.46346130733226 L -121.73407412353686,37.467259698815106 L -121.73980199876092,37.47298757403917 L -121.74011309666894,37.472543581767994 L -121.74380168746706,37.46825996868038 L -121.74789838794061,37.46436483217567 L -121.75236249811283,37.46089686972913 L -121.75714966785819,37.45789053491919 L -121.76221233751282,37.455375695137334 L -121.76750021037121,37.453377334861045 L -121.77296075237481,37.45191530743752 L -121.77853971402844,37.45100413784423 L -121.78418166935911,37.450652878385974 L -121.78983056656311,37.4508650187618 L -121.79543028487043,37.451638451395524 L -121.80092519209454,37.4529654923741 L -121.80626069732799,37.454832957785904 L -121.8113837932932,37.45722229470049 L -121.81624358296024,37.46010976548865 L -121.82079178519949,37.46346668365138 L -121.82498321444595,37.467259698815106 L -121.83073626837968,37.47301275274884 L -121.83179195153001,37.471575839690054 L -121.83552180148472,37.46742527698642 L -121.83964148691314,37.46366135039144 L -121.8441111247453,37.460320498839685 L -121.84888744398842,37.457435065435625 L -121.85392420463756,37.45503298433694 L -121.85917264532955,37.45313751032125 L -121.8645819554064,37.451766993654395 L -121.87009976681813,37.45093470243975 L -121.87567266110298,37.450648694168436 L -121.8812466865366,37.450911737713966 L -121.88676788044386,37.451721286526535 L -121.89218279161672,37.45306950328641 L -121.89743899778047,37.45494333577775 L -121.90248561309885,37.45732464324839 L -121.90727378080469,37.460190372032194 L -121.91175714618691,37.4635127787338 L -121.91589230535504,37.467259698815106 L -121.97260623362857,37.52397362708866 L -122.02932016190216,37.580687555362225 L -122.08603409017574,37.6374014836358 L -122.14274801844928,37.69411541190935 L -122.19946194672283,37.750829340182925 L -122.2561758749964,37.80754326845648 L -122.31288980326995,37.86425719673004 L -122.31659164050707,37.86833746357813 L -122.31988011579153,37.87275765664917 L -122.32272419746667,37.87747606484547 L -122.32509704739066,37.88244816296598 L -122.3269762741943,37.8876270318678 L -122.32834414457692,37.89296380121808 L -122.32918775064644,37.89840811065833 L -122.32949913172455,37.90390858502933 L -122.3292753494675,37.90941331917215 L -122.32851851559383,37.914870367730614 L -122.32723577195709,37.92022823533295 L -122.32543922315189,37.92543636252728 L -122.32314582228896,37.93044560288523 L -122.32037721101743,37.935208686771624 L -122.31715951530357,37.93968066740383 L -122.31352309889351,37.94381934499147 L -122.30950227678609,37.94758566495427 L -122.30513499141978,37.95094408646012 L -122.30046245462935,37.95386291780569 L -122.2955287587509,37.956314615474795 L -122.29038046054505,37.95827604405247 L -122.28506614186463,37.95972869454201 L -122.27963595121268,37.96065885902489 L -122.27414113051665,37.961057760015386 L -122.26863353158461,37.96092163328919 L -122.26316512680631,37.960251763404486 z\" /></g></svg>"
      ],
      "text/plain": [
       "<shapely.geometry.polygon.Polygon at 0x10ed1bac8>"
      ]
     },
     "execution_count": 7,
     "metadata": {},
     "output_type": "execute_result"
    }
   ],
   "source": [
    "# buffering the original polygon by 5 miles (adjusted from the The Shapely User Manual)\n",
    "coords = [(x,y)for x,y in zip(locations_alameda.lon,locations_alameda.lat)]\n",
    "r = LinearRing(coords)\n",
    "s = Polygon(r)\n",
    "t = Polygon(s.buffer(0.056713928273561295), [r])\n",
    "t"
   ]
  },
  {
   "cell_type": "code",
   "execution_count": 8,
   "metadata": {},
   "outputs": [],
   "source": [
    "within = []\n",
    "for x,y in zip(stations.LONGITUDE,stations.LATITUDE):\n",
    "    point = Point(x,y)\n",
    "    within.append(point.within(t))"
   ]
  },
  {
   "cell_type": "code",
   "execution_count": 9,
   "metadata": {},
   "outputs": [
    {
     "data": {
      "text/html": [
       "<div>\n",
       "<style scoped>\n",
       "    .dataframe tbody tr th:only-of-type {\n",
       "        vertical-align: middle;\n",
       "    }\n",
       "\n",
       "    .dataframe tbody tr th {\n",
       "        vertical-align: top;\n",
       "    }\n",
       "\n",
       "    .dataframe thead th {\n",
       "        text-align: right;\n",
       "    }\n",
       "</style>\n",
       "<table border=\"1\" class=\"dataframe\">\n",
       "  <thead>\n",
       "    <tr style=\"text-align: right;\">\n",
       "      <th></th>\n",
       "      <th>Unnamed: 0</th>\n",
       "      <th>ID</th>\n",
       "      <th>LATITUDE</th>\n",
       "      <th>LONGITUDE</th>\n",
       "      <th>ELEVATION</th>\n",
       "      <th>STATE</th>\n",
       "      <th>NAME</th>\n",
       "      <th>GSN FLAG</th>\n",
       "      <th>HCN/CRN FLAG</th>\n",
       "      <th>WMO ID</th>\n",
       "    </tr>\n",
       "  </thead>\n",
       "  <tbody>\n",
       "    <tr>\n",
       "      <th>0</th>\n",
       "      <td>50462</td>\n",
       "      <td>US1CAAL0001</td>\n",
       "      <td>37.8123</td>\n",
       "      <td>-122.2160</td>\n",
       "      <td>113.4</td>\n",
       "      <td>CA</td>\n",
       "      <td>PIEDMONT 1.0 SE</td>\n",
       "      <td>NaN</td>\n",
       "      <td>NaN</td>\n",
       "      <td>NaN</td>\n",
       "    </tr>\n",
       "    <tr>\n",
       "      <th>1</th>\n",
       "      <td>50463</td>\n",
       "      <td>US1CAAL0002</td>\n",
       "      <td>37.7075</td>\n",
       "      <td>-122.0687</td>\n",
       "      <td>87.5</td>\n",
       "      <td>CA</td>\n",
       "      <td>CASTRO VALLEY 0.5 WSW</td>\n",
       "      <td>NaN</td>\n",
       "      <td>NaN</td>\n",
       "      <td>NaN</td>\n",
       "    </tr>\n",
       "    <tr>\n",
       "      <th>2</th>\n",
       "      <td>50464</td>\n",
       "      <td>US1CAAL0003</td>\n",
       "      <td>37.7169</td>\n",
       "      <td>-122.0585</td>\n",
       "      <td>163.4</td>\n",
       "      <td>CA</td>\n",
       "      <td>CASTRO VALLEY 0.4 NNE</td>\n",
       "      <td>NaN</td>\n",
       "      <td>NaN</td>\n",
       "      <td>NaN</td>\n",
       "    </tr>\n",
       "    <tr>\n",
       "      <th>3</th>\n",
       "      <td>50465</td>\n",
       "      <td>US1CAAL0004</td>\n",
       "      <td>37.6483</td>\n",
       "      <td>-121.8745</td>\n",
       "      <td>107.0</td>\n",
       "      <td>CA</td>\n",
       "      <td>PLEASANTON 1.8 SSE</td>\n",
       "      <td>NaN</td>\n",
       "      <td>NaN</td>\n",
       "      <td>NaN</td>\n",
       "    </tr>\n",
       "    <tr>\n",
       "      <th>4</th>\n",
       "      <td>50466</td>\n",
       "      <td>US1CAAL0006</td>\n",
       "      <td>37.8319</td>\n",
       "      <td>-122.2503</td>\n",
       "      <td>58.2</td>\n",
       "      <td>CA</td>\n",
       "      <td>OAKLAND 4.4 NNW</td>\n",
       "      <td>NaN</td>\n",
       "      <td>NaN</td>\n",
       "      <td>NaN</td>\n",
       "    </tr>\n",
       "  </tbody>\n",
       "</table>\n",
       "</div>"
      ],
      "text/plain": [
       "   Unnamed: 0           ID  LATITUDE  LONGITUDE  ELEVATION STATE  \\\n",
       "0       50462  US1CAAL0001   37.8123  -122.2160      113.4    CA   \n",
       "1       50463  US1CAAL0002   37.7075  -122.0687       87.5    CA   \n",
       "2       50464  US1CAAL0003   37.7169  -122.0585      163.4    CA   \n",
       "3       50465  US1CAAL0004   37.6483  -121.8745      107.0    CA   \n",
       "4       50466  US1CAAL0006   37.8319  -122.2503       58.2    CA   \n",
       "\n",
       "                    NAME GSN FLAG HCN/CRN FLAG  WMO ID  \n",
       "0        PIEDMONT 1.0 SE      NaN          NaN     NaN  \n",
       "1  CASTRO VALLEY 0.5 WSW      NaN          NaN     NaN  \n",
       "2  CASTRO VALLEY 0.4 NNE      NaN          NaN     NaN  \n",
       "3     PLEASANTON 1.8 SSE      NaN          NaN     NaN  \n",
       "4        OAKLAND 4.4 NNW      NaN          NaN     NaN  "
      ]
     },
     "execution_count": 9,
     "metadata": {},
     "output_type": "execute_result"
    }
   ],
   "source": [
    "stations_within_5miles = stations[within]\n",
    "stations_within_5miles.head()"
   ]
  },
  {
   "cell_type": "markdown",
   "metadata": {},
   "source": [
    "#### 2. Method of grid points: \n",
    "Please see function 'within_alameda' in .py file"
   ]
  },
  {
   "cell_type": "markdown",
   "metadata": {},
   "source": [
    "### Identify all weather stations within 10 miles (not Ranson's 50 miles) of Alameda county:"
   ]
  },
  {
   "cell_type": "code",
   "execution_count": 10,
   "metadata": {
    "collapsed": true
   },
   "outputs": [],
   "source": [
    "stations_lat = stations['LATITUDE']\n",
    "stations_lon = stations['LONGITUDE']"
   ]
  },
  {
   "cell_type": "code",
   "execution_count": 11,
   "metadata": {
    "scrolled": true
   },
   "outputs": [
    {
     "data": {
      "text/html": [
       "<div>\n",
       "<style scoped>\n",
       "    .dataframe tbody tr th:only-of-type {\n",
       "        vertical-align: middle;\n",
       "    }\n",
       "\n",
       "    .dataframe tbody tr th {\n",
       "        vertical-align: top;\n",
       "    }\n",
       "\n",
       "    .dataframe thead th {\n",
       "        text-align: right;\n",
       "    }\n",
       "</style>\n",
       "<table border=\"1\" class=\"dataframe\">\n",
       "  <thead>\n",
       "    <tr style=\"text-align: right;\">\n",
       "      <th></th>\n",
       "      <th>Unnamed: 0</th>\n",
       "      <th>ID</th>\n",
       "      <th>LATITUDE</th>\n",
       "      <th>LONGITUDE</th>\n",
       "      <th>ELEVATION</th>\n",
       "      <th>STATE</th>\n",
       "      <th>NAME</th>\n",
       "      <th>GSN FLAG</th>\n",
       "      <th>HCN/CRN FLAG</th>\n",
       "      <th>WMO ID</th>\n",
       "    </tr>\n",
       "  </thead>\n",
       "  <tbody>\n",
       "    <tr>\n",
       "      <th>0</th>\n",
       "      <td>50462</td>\n",
       "      <td>US1CAAL0001</td>\n",
       "      <td>37.8123</td>\n",
       "      <td>-122.2160</td>\n",
       "      <td>113.4</td>\n",
       "      <td>CA</td>\n",
       "      <td>PIEDMONT 1.0 SE</td>\n",
       "      <td>NaN</td>\n",
       "      <td>NaN</td>\n",
       "      <td>NaN</td>\n",
       "    </tr>\n",
       "    <tr>\n",
       "      <th>1</th>\n",
       "      <td>50463</td>\n",
       "      <td>US1CAAL0002</td>\n",
       "      <td>37.7075</td>\n",
       "      <td>-122.0687</td>\n",
       "      <td>87.5</td>\n",
       "      <td>CA</td>\n",
       "      <td>CASTRO VALLEY 0.5 WSW</td>\n",
       "      <td>NaN</td>\n",
       "      <td>NaN</td>\n",
       "      <td>NaN</td>\n",
       "    </tr>\n",
       "    <tr>\n",
       "      <th>2</th>\n",
       "      <td>50464</td>\n",
       "      <td>US1CAAL0003</td>\n",
       "      <td>37.7169</td>\n",
       "      <td>-122.0585</td>\n",
       "      <td>163.4</td>\n",
       "      <td>CA</td>\n",
       "      <td>CASTRO VALLEY 0.4 NNE</td>\n",
       "      <td>NaN</td>\n",
       "      <td>NaN</td>\n",
       "      <td>NaN</td>\n",
       "    </tr>\n",
       "    <tr>\n",
       "      <th>3</th>\n",
       "      <td>50465</td>\n",
       "      <td>US1CAAL0004</td>\n",
       "      <td>37.6483</td>\n",
       "      <td>-121.8745</td>\n",
       "      <td>107.0</td>\n",
       "      <td>CA</td>\n",
       "      <td>PLEASANTON 1.8 SSE</td>\n",
       "      <td>NaN</td>\n",
       "      <td>NaN</td>\n",
       "      <td>NaN</td>\n",
       "    </tr>\n",
       "    <tr>\n",
       "      <th>4</th>\n",
       "      <td>50466</td>\n",
       "      <td>US1CAAL0006</td>\n",
       "      <td>37.8319</td>\n",
       "      <td>-122.2503</td>\n",
       "      <td>58.2</td>\n",
       "      <td>CA</td>\n",
       "      <td>OAKLAND 4.4 NNW</td>\n",
       "      <td>NaN</td>\n",
       "      <td>NaN</td>\n",
       "      <td>NaN</td>\n",
       "    </tr>\n",
       "  </tbody>\n",
       "</table>\n",
       "</div>"
      ],
      "text/plain": [
       "   Unnamed: 0           ID  LATITUDE  LONGITUDE  ELEVATION STATE  \\\n",
       "0       50462  US1CAAL0001   37.8123  -122.2160      113.4    CA   \n",
       "1       50463  US1CAAL0002   37.7075  -122.0687       87.5    CA   \n",
       "2       50464  US1CAAL0003   37.7169  -122.0585      163.4    CA   \n",
       "3       50465  US1CAAL0004   37.6483  -121.8745      107.0    CA   \n",
       "4       50466  US1CAAL0006   37.8319  -122.2503       58.2    CA   \n",
       "\n",
       "                    NAME GSN FLAG HCN/CRN FLAG  WMO ID  \n",
       "0        PIEDMONT 1.0 SE      NaN          NaN     NaN  \n",
       "1  CASTRO VALLEY 0.5 WSW      NaN          NaN     NaN  \n",
       "2  CASTRO VALLEY 0.4 NNE      NaN          NaN     NaN  \n",
       "3     PLEASANTON 1.8 SSE      NaN          NaN     NaN  \n",
       "4        OAKLAND 4.4 NNW      NaN          NaN     NaN  "
      ]
     },
     "execution_count": 11,
     "metadata": {},
     "output_type": "execute_result"
    }
   ],
   "source": [
    "#Get index of weather stations within 10 miles of Alameda using function 'within_alameda'\n",
    "mask = [within_alameda(10, lat, lon, locations_alameda) for lat, lon in zip(stations_lat, stations_lon)]\n",
    "\n",
    "#Extract weather stations within 10 miles of Alameda\n",
    "stations_within_10miles_alameda = stations.loc[mask]\n",
    "stations_within_10miles_alameda.head()"
   ]
  },
  {
   "cell_type": "code",
   "execution_count": 12,
   "metadata": {},
   "outputs": [
    {
     "data": {
      "text/plain": [
       "88"
      ]
     },
     "execution_count": 12,
     "metadata": {},
     "output_type": "execute_result"
    }
   ],
   "source": [
    "#number of weather stations within 10 miles of Alameda\n",
    "len(stations_within_10miles_alameda)"
   ]
  },
  {
   "cell_type": "code",
   "execution_count": 13,
   "metadata": {
    "collapsed": true
   },
   "outputs": [],
   "source": [
    "#save to .csv for later use\n",
    "stations_within_10miles_alameda.iloc[:,1:].to_csv(\"stations_within_10miles_alameda.csv\")"
   ]
  },
  {
   "cell_type": "markdown",
   "metadata": {},
   "source": [
    "### Find the weighted average inverse distance from each station to the points in the county grid:"
   ]
  },
  {
   "cell_type": "code",
   "execution_count": 14,
   "metadata": {
    "collapsed": true
   },
   "outputs": [],
   "source": [
    "#get a list of tuples that contains the latitude and longtitude of the weather stations\n",
    "loc_stations = list(zip(stations_within_10miles_alameda['LATITUDE'], stations_within_10miles_alameda['LONGITUDE']))\n",
    "\n",
    "#get a list of tuples that contains the latitude and longtitude of all the grid points in Alameda.\n",
    "loc_alameda = list(zip(locations_alameda.lat, locations_alameda.lon))"
   ]
  },
  {
   "cell_type": "code",
   "execution_count": 15,
   "metadata": {
    "collapsed": true,
    "scrolled": true
   },
   "outputs": [],
   "source": [
    "#get the weighted average inverse distance for each station by function 'idwa'\n",
    "weg_avg_inv_dist = idwa(loc_stations, loc_alameda)"
   ]
  },
  {
   "cell_type": "code",
   "execution_count": 16,
   "metadata": {
    "scrolled": true
   },
   "outputs": [
    {
     "data": {
      "text/plain": [
       "[0.06789401406379811,\n",
       " 0.09583860468168928,\n",
       " 0.0975522997706836,\n",
       " 0.12340823956560336,\n",
       " 0.06287881336386607,\n",
       " 0.08051461618878267,\n",
       " 0.0835226593030135,\n",
       " 0.07125996836250492,\n",
       " 0.13101904586567004,\n",
       " 0.0649451405965993]"
      ]
     },
     "execution_count": 16,
     "metadata": {},
     "output_type": "execute_result"
    }
   ],
   "source": [
    "weg_avg_inv_dist[:10]"
   ]
  },
  {
   "cell_type": "code",
   "execution_count": 17,
   "metadata": {},
   "outputs": [
    {
     "name": "stderr",
     "output_type": "stream",
     "text": [
      "/Users/glance/anaconda3/lib/python3.6/site-packages/ipykernel_launcher.py:2: SettingWithCopyWarning: \n",
      "A value is trying to be set on a copy of a slice from a DataFrame.\n",
      "Try using .loc[row_indexer,col_indexer] = value instead\n",
      "\n",
      "See the caveats in the documentation: http://pandas.pydata.org/pandas-docs/stable/indexing.html#indexing-view-versus-copy\n",
      "  \n"
     ]
    }
   ],
   "source": [
    "# save the inverse distance for future assignment\n",
    "stations_within_10miles_alameda['INVDIST'] = weg_avg_inv_dist"
   ]
  },
  {
   "cell_type": "code",
   "execution_count": 18,
   "metadata": {
    "collapsed": true
   },
   "outputs": [],
   "source": [
    "stations_within_10miles_alameda.to_csv(\"stations_within_10miles_alameda.csv\")"
   ]
  },
  {
   "cell_type": "code",
   "execution_count": null,
   "metadata": {
    "collapsed": true
   },
   "outputs": [],
   "source": []
  }
 ],
 "metadata": {
  "kernelspec": {
   "display_name": "Python 3",
   "language": "python",
   "name": "python3"
  },
  "language_info": {
   "codemirror_mode": {
    "name": "ipython",
    "version": 3
   },
   "file_extension": ".py",
   "mimetype": "text/x-python",
   "name": "python",
   "nbconvert_exporter": "python",
   "pygments_lexer": "ipython3",
   "version": "3.6.5"
  }
 },
 "nbformat": 4,
 "nbformat_minor": 2
}
