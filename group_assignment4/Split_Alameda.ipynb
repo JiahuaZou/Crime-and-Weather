{
 "cells": [
  {
   "cell_type": "code",
   "execution_count": 1,
   "metadata": {
    "collapsed": true
   },
   "outputs": [],
   "source": [
    "#Import packages\n",
    "import geopy\n",
    "from geopy.geocoders import Nominatim\n",
    "from geopy.distance import distance\n",
    "import numpy as np\n",
    "import time\n",
    "import matplotlib.pyplot as plt\n",
    "import pandas as pd\n",
    "from shapely import wkt\n",
    "import csv\n",
    "from pathlib import Path\n",
    "from shapely.geometry import Point, Polygon, LinearRing"
   ]
  },
  {
   "cell_type": "code",
   "execution_count": 2,
   "metadata": {
    "collapsed": true
   },
   "outputs": [],
   "source": [
    "#import functions (Assignment_2_Functions.py) we write in group_assignment2\n",
    "import os\n",
    "os.chdir('../group_assignment2')\n",
    "from Assignment_2_Functions import *"
   ]
  },
  {
   "cell_type": "code",
   "execution_count": 3,
   "metadata": {
    "collapsed": true
   },
   "outputs": [],
   "source": [
    "locations_alameda = pd.read_csv(\"../group_assignment2/grid_points_alameda.csv\")\n",
    "stations = pd.read_csv(\"../group_assignment4/Intermediate_data/stations_ca.csv\")"
   ]
  },
  {
   "cell_type": "code",
   "execution_count": 12,
   "metadata": {},
   "outputs": [
    {
     "data": {
      "image/png": "[encoded data removed]",
      "text/plain": [
       "<matplotlib.figure.Figure at 0x10d088160>"
      ]
     },
     "metadata": {},
     "output_type": "display_data"
    }
   ],
   "source": [
    "#scatter plot of grid points overlaying Alameda to get the shape of Alameda\n",
    "plt.scatter(locations_alameda.lon, locations_alameda.lat)\n",
    "plt.plot([-121.963152, -121.829412], [37.716442, 37.511408], c = 'red')\n",
    "plt.xlabel('lon')\n",
    "plt.ylabel('lat')\n",
    "plt.show();"
   ]
  },
  {
   "cell_type": "markdown",
   "metadata": {},
   "source": [
    "## Rule for spliting grid points in Alameda county into eastern and western part\n",
    "The red line are drawn using two most eastern point in zip code 94552 and 94539 from Google Map. The point in 94552 is near Walsh Pocket, and the point in 94539 is near Sunol Regional Wilderness. We then connect this two point with a red line, and classifies all grid points to the left as the western part of Alameda, and all grid points to the right as the eastern part of Alameda. The way we draw our grid points is that the first grid points is the upper left one, then we go down to the next point, and once the first \"column\" is complete we move the the second \"column\" of points, until all \"columns\" are complete. Please refer to group_assignment2/find_grid_points.ipynb for our method of drawing grid points. This indicates that 1 - 11 grid points belong to western Alameda, and the rest grid points are eastern Alameda. "
   ]
  },
  {
   "cell_type": "code",
   "execution_count": 11,
   "metadata": {},
   "outputs": [
    {
     "data": {
      "image/png": "[encoded data removed]",
      "text/plain": [
       "<matplotlib.figure.Figure at 0x10d088208>"
      ]
     },
     "metadata": {},
     "output_type": "display_data"
    }
   ],
   "source": [
    "west_alameda = locations_alameda.loc[0:10, :]\n",
    "plt.scatter(west_alameda.lon, west_alameda.lat)\n",
    "plt.plot([-121.963152, -121.829412], [37.716442, 37.511408], c = 'red')\n",
    "plt.xlabel('lon')\n",
    "plt.ylabel('lat')\n",
    "plt.show();"
   ]
  },
  {
   "cell_type": "code",
   "execution_count": 10,
   "metadata": {},
   "outputs": [
    {
     "data": {
      "image/png": "[encoded data removed]",
      "text/plain": [
       "<matplotlib.figure.Figure at 0x10d088630>"
      ]
     },
     "metadata": {},
     "output_type": "display_data"
    }
   ],
   "source": [
    "east_alameda = locations_alameda.loc[11:,:]\n",
    "plt.scatter(east_alameda.lon, east_alameda.lat)\n",
    "plt.plot([-121.963152, -121.829412], [37.716442, 37.511408], c = 'red')\n",
    "plt.xlabel('lon')\n",
    "plt.ylabel('lat')\n",
    "plt.show();"
   ]
  },
  {
   "cell_type": "code",
   "execution_count": 7,
   "metadata": {},
   "outputs": [
    {
     "data": {
      "text/plain": [
       "76"
      ]
     },
     "execution_count": 7,
     "metadata": {},
     "output_type": "execute_result"
    }
   ],
   "source": [
    "stations_lat = stations['LATITUDE']\n",
    "stations_lon = stations['LONGITUDE']\n",
    "\n",
    "#Get index of weather stations within 10 miles of West Alameda using function 'within_alameda'\n",
    "mask = [within_alameda(10, lat, lon, west_alameda) for lat, lon in zip(stations_lat, stations_lon)]\n",
    "\n",
    "#Extract weather stations within 10 miles of West Alameda\n",
    "stations_within_10miles_west_alameda = stations.loc[mask]\n",
    "stations_within_10miles_west_alameda.head()\n",
    "\n",
    "#number of weather stations within 10 miles of West Alameda\n",
    "len(stations_within_10miles_west_alameda)"
   ]
  },
  {
   "cell_type": "code",
   "execution_count": 8,
   "metadata": {},
   "outputs": [
    {
     "data": {
      "text/plain": [
       "30"
      ]
     },
     "execution_count": 8,
     "metadata": {},
     "output_type": "execute_result"
    }
   ],
   "source": [
    "#Get index of weather stations within 10 miles of East Alameda using function 'within_alameda'\n",
    "mask = [within_alameda(10, lat, lon, east_alameda) for lat, lon in zip(stations_lat, stations_lon)]\n",
    "\n",
    "#Extract weather stations within 10 miles of East Alameda\n",
    "stations_within_10miles_east_alameda = stations.loc[mask]\n",
    "stations_within_10miles_east_alameda.head()\n",
    "\n",
    "#number of weather stations within 10 miles of East Alameda\n",
    "len(stations_within_10miles_east_alameda)"
   ]
  },
  {
   "cell_type": "code",
   "execution_count": 9,
   "metadata": {
    "collapsed": true
   },
   "outputs": [],
   "source": [
    "#save to csv for later use\n",
    "stations_within_10miles_east_alameda.iloc[:,1:].to_csv(\"../group_assignment4/Intermediate_data/stations_10miles_east.csv\")\n",
    "stations_within_10miles_west_alameda.iloc[:,1:].to_csv(\"../group_assignment4/Intermediate_data/stations_10miles_west.csv\")\n",
    "east_alameda.to_csv(\"../group_assignment4/Intermediate_data/grid_10miles_east.csv\")\n",
    "west_alameda.to_csv(\"../group_assignment4/Intermediate_data/grid_10miles_west.csv\")"
   ]
  }
 ],
 "metadata": {
  "kernelspec": {
   "display_name": "Python 3",
   "language": "python",
   "name": "python3"
  },
  "language_info": {
   "codemirror_mode": {
    "name": "ipython",
    "version": 3
   },
   "file_extension": ".py",
   "mimetype": "text/x-python",
   "name": "python",
   "nbconvert_exporter": "python",
   "pygments_lexer": "ipython3",
   "version": "3.6.3"
  }
 },
 "nbformat": 4,
 "nbformat_minor": 2
}
