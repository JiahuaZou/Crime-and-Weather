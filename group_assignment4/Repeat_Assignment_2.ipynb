{
 "cells": [
  {
   "cell_type": "code",
   "execution_count": 1,
   "metadata": {
    "collapsed": true
   },
   "outputs": [],
   "source": [
    "import geopy\n",
    "from geopy.geocoders import Nominatim\n",
    "from geopy.distance import distance\n",
    "import numpy as np\n",
    "import time\n",
    "import matplotlib.pyplot as plt\n",
    "import pandas as pd\n",
    "from shapely import wkt\n",
    "import csv\n",
    "from pathlib import Path\n",
    "from shapely.geometry import Point, Polygon, LinearRing"
   ]
  },
  {
   "cell_type": "code",
   "execution_count": 2,
   "metadata": {
    "collapsed": true
   },
   "outputs": [],
   "source": [
    "#import functions (Assignment_2_Functions.py) we write in group_assignment2\n",
    "import os\n",
    "os.chdir('../group_assignment2')\n",
    "from Assignment_2_Functions import *"
   ]
  },
  {
   "cell_type": "code",
   "execution_count": 3,
   "metadata": {
    "collapsed": true
   },
   "outputs": [],
   "source": [
    "#Use csv files obtained from \"Split_Alameda.ipynb\"\n",
    "stations_west = pd.read_csv(\"../group_assignment4/Intermediate_data/stations_10miles_west.csv\")\n",
    "stations_east = pd.read_csv(\"../group_assignment4/Intermediate_data/stations_10miles_east.csv\")\n",
    "grid_west = pd.read_csv(\"../group_assignment4/Intermediate_data/grid_10miles_west.csv\")\n",
    "grid_east = pd.read_csv(\"../group_assignment4/Intermediate_data/grid_10miles_east.csv\")"
   ]
  },
  {
   "cell_type": "markdown",
   "metadata": {},
   "source": [
    "## Find weighted average inverse distance from each station to the points in West Alameda"
   ]
  },
  {
   "cell_type": "code",
   "execution_count": 4,
   "metadata": {
    "collapsed": true
   },
   "outputs": [],
   "source": [
    "#get a list of tuples that contains the latitude and longtitude of the weather stations\n",
    "loc_stations_west = list(zip(stations_west['LATITUDE'], stations_west['LONGITUDE']))\n",
    "\n",
    "#get a list of tuples that contains the latitude and longtitude of all the grid points in Alameda.\n",
    "loc_alameda_west = list(zip(grid_west.lat, grid_west.lon))\n",
    "\n",
    "#get the weighted average inverse distance for each station\n",
    "weg_avg_inv_dist_west = idwa(loc_stations_west, loc_alameda_west)\n",
    "\n",
    "# save the inverse distance for future assignment\n",
    "stations_west['INVDIST'] = weg_avg_inv_dist_west\n",
    "stations_west.to_csv(\"../group_assignment4/Intermediate_data/stations_west_invdist.csv\")"
   ]
  },
  {
   "cell_type": "code",
   "execution_count": 5,
   "metadata": {},
   "outputs": [
    {
     "data": {
      "text/plain": [
       "[0.13052754699170543,\n",
       " 0.17628894930951855,\n",
       " 0.1793290515943717,\n",
       " 0.0995320520874453,\n",
       " 0.1207823744761952,\n",
       " 0.10049962500159414,\n",
       " 0.17855538449942115,\n",
       " 0.12045439993736488,\n",
       " 0.10294081516534073,\n",
       " 0.1200338073361301]"
      ]
     },
     "execution_count": 5,
     "metadata": {},
     "output_type": "execute_result"
    }
   ],
   "source": [
    "weg_avg_inv_dist_west[:10]"
   ]
  },
  {
   "cell_type": "markdown",
   "metadata": {},
   "source": [
    "## Find weighted average inverse distance from each station to the points in East Alameda"
   ]
  },
  {
   "cell_type": "code",
   "execution_count": 6,
   "metadata": {
    "collapsed": true
   },
   "outputs": [],
   "source": [
    "#get a list of tuples that contains the latitude and longtitude of the weather stations\n",
    "loc_stations_east = list(zip(stations_east['LATITUDE'], stations_east['LONGITUDE']))\n",
    "\n",
    "#get a list of tuples that contains the latitude and longtitude of all the grid points in Alameda.\n",
    "loc_alameda_east = list(zip(grid_east.lat, grid_east.lon))\n",
    "\n",
    "#get the weighted average inverse distance for each station\n",
    "weg_avg_inv_dist_east = idwa(loc_stations_east, loc_alameda_east)\n",
    "\n",
    "# save the inverse distance for future assignment\n",
    "stations_east['INVDIST'] = weg_avg_inv_dist_east\n",
    "stations_east.to_csv(\"../group_assignment4/Intermediate_data/stations_east_invdist.csv\")"
   ]
  },
  {
   "cell_type": "code",
   "execution_count": 7,
   "metadata": {},
   "outputs": [
    {
     "data": {
      "text/plain": [
       "[0.13654014267859033,\n",
       " 0.06952286134173637,\n",
       " 0.14646207275085119,\n",
       " 0.06540539645344705,\n",
       " 0.07583201266587469,\n",
       " 0.0591293303122611,\n",
       " 0.13204083877537,\n",
       " 0.07539343722826528,\n",
       " 0.05559901791579316,\n",
       " 0.058811542348867894]"
      ]
     },
     "execution_count": 7,
     "metadata": {},
     "output_type": "execute_result"
    }
   ],
   "source": [
    "weg_avg_inv_dist_east[:10]"
   ]
  }
 ],
 "metadata": {
  "kernelspec": {
   "display_name": "Python 3",
   "language": "python",
   "name": "python3"
  },
  "language_info": {
   "codemirror_mode": {
    "name": "ipython",
    "version": 3
   },
   "file_extension": ".py",
   "mimetype": "text/x-python",
   "name": "python",
   "nbconvert_exporter": "python",
   "pygments_lexer": "ipython3",
   "version": "3.6.3"
  }
 },
 "nbformat": 4,
 "nbformat_minor": 2
}
